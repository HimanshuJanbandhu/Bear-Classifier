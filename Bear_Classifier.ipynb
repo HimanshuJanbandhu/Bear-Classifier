{
  "nbformat": 4,
  "nbformat_minor": 0,
  "metadata": {
    "colab": {
      "name": "Bear_Classifier.ipynb",
      "provenance": [],
      "authorship_tag": "ABX9TyPpnrLyvlnMGkF/cWMu8NaZ",
      "include_colab_link": true
    },
    "kernelspec": {
      "name": "python3",
      "display_name": "Python 3"
    },
    "language_info": {
      "name": "python"
    },
    "accelerator": "GPU",
    "widgets": {
      "application/vnd.jupyter.widget-state+json": {
        "9fd23d92400540f5af26861f39d654dc": {
          "model_module": "@jupyter-widgets/controls",
          "model_name": "VBoxModel",
          "state": {
            "_view_name": "VBoxView",
            "_dom_classes": [],
            "_model_name": "VBoxModel",
            "_view_module": "@jupyter-widgets/controls",
            "_model_module_version": "1.5.0",
            "_view_count": null,
            "_view_module_version": "1.5.0",
            "box_style": "",
            "layout": "IPY_MODEL_6f1495c9ce57407b9e1740b75c8046d3",
            "_model_module": "@jupyter-widgets/controls",
            "children": [
              "IPY_MODEL_8d8629635c68418f9e3be77cdea4c3c2",
              "IPY_MODEL_5c43b8f6f37949eeb99b97fd0673858e",
              "IPY_MODEL_9b8c716e5b34415ea5a092c805c8be0a",
              "IPY_MODEL_e6dcfd291f4b48a4a7ffbfb4a5c8b2a0"
            ]
          }
        },
        "6f1495c9ce57407b9e1740b75c8046d3": {
          "model_module": "@jupyter-widgets/base",
          "model_name": "LayoutModel",
          "state": {
            "_view_name": "LayoutView",
            "grid_template_rows": null,
            "right": null,
            "justify_content": null,
            "_view_module": "@jupyter-widgets/base",
            "overflow": null,
            "_model_module_version": "1.2.0",
            "_view_count": null,
            "flex_flow": null,
            "width": null,
            "min_width": null,
            "border": null,
            "align_items": null,
            "bottom": null,
            "_model_module": "@jupyter-widgets/base",
            "top": null,
            "grid_column": null,
            "overflow_y": null,
            "overflow_x": null,
            "grid_auto_flow": null,
            "grid_area": null,
            "grid_template_columns": null,
            "flex": null,
            "_model_name": "LayoutModel",
            "justify_items": null,
            "grid_row": null,
            "max_height": null,
            "align_content": null,
            "visibility": null,
            "align_self": null,
            "height": null,
            "min_height": null,
            "padding": null,
            "grid_auto_rows": null,
            "grid_gap": null,
            "max_width": null,
            "order": null,
            "_view_module_version": "1.2.0",
            "grid_template_areas": null,
            "object_position": null,
            "object_fit": null,
            "grid_auto_columns": null,
            "margin": null,
            "display": null,
            "left": null
          }
        },
        "8d8629635c68418f9e3be77cdea4c3c2": {
          "model_module": "@jupyter-widgets/controls",
          "model_name": "LabelModel",
          "state": {
            "_view_name": "LabelView",
            "style": "IPY_MODEL_4b1957c91d3945fa9b30c4888a0c6a4c",
            "_dom_classes": [],
            "description": "",
            "_model_name": "LabelModel",
            "placeholder": "​",
            "_view_module": "@jupyter-widgets/controls",
            "_model_module_version": "1.5.0",
            "value": "Select your bear!",
            "_view_count": null,
            "_view_module_version": "1.5.0",
            "description_tooltip": null,
            "_model_module": "@jupyter-widgets/controls",
            "layout": "IPY_MODEL_20a7d12a56a64593ae9316b95a4960b8"
          }
        },
        "5c43b8f6f37949eeb99b97fd0673858e": {
          "model_module": "@jupyter-widgets/controls",
          "model_name": "FileUploadModel",
          "state": {
            "_view_name": "FileUploadView",
            "_counter": 1,
            "style": "IPY_MODEL_03f697cda29040298715d6330946f33a",
            "_dom_classes": [],
            "description": "Upload",
            "multiple": false,
            "_model_name": "FileUploadModel",
            "data": [
              null
            ],
            "button_style": "",
            "_view_module": "@jupyter-widgets/controls",
            "_model_module_version": "1.5.0",
            "accept": "",
            "_view_count": null,
            "disabled": false,
            "_view_module_version": "1.5.0",
            "error": "",
            "description_tooltip": null,
            "metadata": [
              {
                "name": "bear1.jpeg",
                "type": "image/jpeg",
                "size": 10522,
                "lastModified": 1616408631444
              }
            ],
            "_model_module": "@jupyter-widgets/controls",
            "layout": "IPY_MODEL_9c9035db048a4d6593f75a8820e45fb8",
            "icon": "upload"
          }
        },
        "9b8c716e5b34415ea5a092c805c8be0a": {
          "model_module": "@jupyter-widgets/output",
          "model_name": "OutputModel",
          "state": {
            "_view_name": "OutputView",
            "msg_id": "",
            "_dom_classes": [],
            "_model_name": "OutputModel",
            "outputs": [
              {
                "output_type": "display_data",
                "metadata": {
                  "tags": []
                },
                "image/png": "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\n",
                "text/plain": "<PIL.Image.Image image mode=RGB size=128x72 at 0x7F8AF75A4750>"
              }
            ],
            "_view_module": "@jupyter-widgets/output",
            "_model_module_version": "1.0.0",
            "_view_count": null,
            "_view_module_version": "1.0.0",
            "layout": "IPY_MODEL_97114154ce754b91af55ace83509da15",
            "_model_module": "@jupyter-widgets/output"
          }
        },
        "e6dcfd291f4b48a4a7ffbfb4a5c8b2a0": {
          "model_module": "@jupyter-widgets/controls",
          "model_name": "LabelModel",
          "state": {
            "_view_name": "LabelView",
            "style": "IPY_MODEL_fcf6f1fdb5414367ae28c2733d1122d5",
            "_dom_classes": [],
            "description": "",
            "_model_name": "LabelModel",
            "placeholder": "​",
            "_view_module": "@jupyter-widgets/controls",
            "_model_module_version": "1.5.0",
            "value": "Prediction: grizzly; Probability: 0.7336",
            "_view_count": null,
            "_view_module_version": "1.5.0",
            "description_tooltip": null,
            "_model_module": "@jupyter-widgets/controls",
            "layout": "IPY_MODEL_f4be3fa4e3ad45d38e77109af067e43c"
          }
        },
        "4b1957c91d3945fa9b30c4888a0c6a4c": {
          "model_module": "@jupyter-widgets/controls",
          "model_name": "DescriptionStyleModel",
          "state": {
            "_view_name": "StyleView",
            "_model_name": "DescriptionStyleModel",
            "description_width": "",
            "_view_module": "@jupyter-widgets/base",
            "_model_module_version": "1.5.0",
            "_view_count": null,
            "_view_module_version": "1.2.0",
            "_model_module": "@jupyter-widgets/controls"
          }
        },
        "20a7d12a56a64593ae9316b95a4960b8": {
          "model_module": "@jupyter-widgets/base",
          "model_name": "LayoutModel",
          "state": {
            "_view_name": "LayoutView",
            "grid_template_rows": null,
            "right": null,
            "justify_content": null,
            "_view_module": "@jupyter-widgets/base",
            "overflow": null,
            "_model_module_version": "1.2.0",
            "_view_count": null,
            "flex_flow": null,
            "width": null,
            "min_width": null,
            "border": null,
            "align_items": null,
            "bottom": null,
            "_model_module": "@jupyter-widgets/base",
            "top": null,
            "grid_column": null,
            "overflow_y": null,
            "overflow_x": null,
            "grid_auto_flow": null,
            "grid_area": null,
            "grid_template_columns": null,
            "flex": null,
            "_model_name": "LayoutModel",
            "justify_items": null,
            "grid_row": null,
            "max_height": null,
            "align_content": null,
            "visibility": null,
            "align_self": null,
            "height": null,
            "min_height": null,
            "padding": null,
            "grid_auto_rows": null,
            "grid_gap": null,
            "max_width": null,
            "order": null,
            "_view_module_version": "1.2.0",
            "grid_template_areas": null,
            "object_position": null,
            "object_fit": null,
            "grid_auto_columns": null,
            "margin": null,
            "display": null,
            "left": null
          }
        },
        "03f697cda29040298715d6330946f33a": {
          "model_module": "@jupyter-widgets/controls",
          "model_name": "ButtonStyleModel",
          "state": {
            "_view_name": "StyleView",
            "_model_name": "ButtonStyleModel",
            "_view_module": "@jupyter-widgets/base",
            "_model_module_version": "1.5.0",
            "_view_count": null,
            "button_color": null,
            "font_weight": "",
            "_view_module_version": "1.2.0",
            "_model_module": "@jupyter-widgets/controls"
          }
        },
        "9c9035db048a4d6593f75a8820e45fb8": {
          "model_module": "@jupyter-widgets/base",
          "model_name": "LayoutModel",
          "state": {
            "_view_name": "LayoutView",
            "grid_template_rows": null,
            "right": null,
            "justify_content": null,
            "_view_module": "@jupyter-widgets/base",
            "overflow": null,
            "_model_module_version": "1.2.0",
            "_view_count": null,
            "flex_flow": null,
            "width": null,
            "min_width": null,
            "border": null,
            "align_items": null,
            "bottom": null,
            "_model_module": "@jupyter-widgets/base",
            "top": null,
            "grid_column": null,
            "overflow_y": null,
            "overflow_x": null,
            "grid_auto_flow": null,
            "grid_area": null,
            "grid_template_columns": null,
            "flex": null,
            "_model_name": "LayoutModel",
            "justify_items": null,
            "grid_row": null,
            "max_height": null,
            "align_content": null,
            "visibility": null,
            "align_self": null,
            "height": null,
            "min_height": null,
            "padding": null,
            "grid_auto_rows": null,
            "grid_gap": null,
            "max_width": null,
            "order": null,
            "_view_module_version": "1.2.0",
            "grid_template_areas": null,
            "object_position": null,
            "object_fit": null,
            "grid_auto_columns": null,
            "margin": null,
            "display": null,
            "left": null
          }
        },
        "fcf6f1fdb5414367ae28c2733d1122d5": {
          "model_module": "@jupyter-widgets/controls",
          "model_name": "DescriptionStyleModel",
          "state": {
            "_view_name": "StyleView",
            "_model_name": "DescriptionStyleModel",
            "description_width": "",
            "_view_module": "@jupyter-widgets/base",
            "_model_module_version": "1.5.0",
            "_view_count": null,
            "_view_module_version": "1.2.0",
            "_model_module": "@jupyter-widgets/controls"
          }
        },
        "f4be3fa4e3ad45d38e77109af067e43c": {
          "model_module": "@jupyter-widgets/base",
          "model_name": "LayoutModel",
          "state": {
            "_view_name": "LayoutView",
            "grid_template_rows": null,
            "right": null,
            "justify_content": null,
            "_view_module": "@jupyter-widgets/base",
            "overflow": null,
            "_model_module_version": "1.2.0",
            "_view_count": null,
            "flex_flow": null,
            "width": null,
            "min_width": null,
            "border": null,
            "align_items": null,
            "bottom": null,
            "_model_module": "@jupyter-widgets/base",
            "top": null,
            "grid_column": null,
            "overflow_y": null,
            "overflow_x": null,
            "grid_auto_flow": null,
            "grid_area": null,
            "grid_template_columns": null,
            "flex": null,
            "_model_name": "LayoutModel",
            "justify_items": null,
            "grid_row": null,
            "max_height": null,
            "align_content": null,
            "visibility": null,
            "align_self": null,
            "height": null,
            "min_height": null,
            "padding": null,
            "grid_auto_rows": null,
            "grid_gap": null,
            "max_width": null,
            "order": null,
            "_view_module_version": "1.2.0",
            "grid_template_areas": null,
            "object_position": null,
            "object_fit": null,
            "grid_auto_columns": null,
            "margin": null,
            "display": null,
            "left": null
          }
        },
        "97114154ce754b91af55ace83509da15": {
          "model_module": "@jupyter-widgets/base",
          "model_name": "LayoutModel",
          "state": {
            "_view_name": "LayoutView",
            "grid_template_rows": null,
            "right": null,
            "justify_content": null,
            "_view_module": "@jupyter-widgets/base",
            "overflow": null,
            "_model_module_version": "1.2.0",
            "_view_count": null,
            "flex_flow": null,
            "width": null,
            "min_width": null,
            "border": null,
            "align_items": null,
            "bottom": null,
            "_model_module": "@jupyter-widgets/base",
            "top": null,
            "grid_column": null,
            "overflow_y": null,
            "overflow_x": null,
            "grid_auto_flow": null,
            "grid_area": null,
            "grid_template_columns": null,
            "flex": null,
            "_model_name": "LayoutModel",
            "justify_items": null,
            "grid_row": null,
            "max_height": null,
            "align_content": null,
            "visibility": null,
            "align_self": null,
            "height": null,
            "min_height": null,
            "padding": null,
            "grid_auto_rows": null,
            "grid_gap": null,
            "max_width": null,
            "order": null,
            "_view_module_version": "1.2.0",
            "grid_template_areas": null,
            "object_position": null,
            "object_fit": null,
            "grid_auto_columns": null,
            "margin": null,
            "display": null,
            "left": null
          }
        }
      }
    }
  },
  "cells": [
    {
      "cell_type": "markdown",
      "metadata": {
        "id": "view-in-github",
        "colab_type": "text"
      },
      "source": [
        "<a href=\"https://colab.research.google.com/github/HimanshuJanbandhu/Bear-Classifier/blob/main/Bear_Classifier.ipynb\" target=\"_parent\"><img src=\"https://colab.research.google.com/assets/colab-badge.svg\" alt=\"Open In Colab\"/></a>"
      ]
    },
    {
      "cell_type": "code",
      "metadata": {
        "id": "OzbOs1_-stex",
        "colab": {
          "base_uri": "https://localhost:8080/"
        },
        "outputId": "7c480a5a-676a-4d1b-eb39-f47ea6492aa1"
      },
      "source": [
        "!pip install fastai -U\n",
        "from fastai.vision.all import*\n",
        "from fastai.vision.widgets import*"
      ],
      "execution_count": 1,
      "outputs": [
        {
          "output_type": "stream",
          "text": [
            "Collecting fastai\n",
            "\u001b[?25l  Downloading https://files.pythonhosted.org/packages/5b/53/edf39e15b7ec5e805a0b6f72adbe48497ebcfa009a245eca7044ae9ee1c6/fastai-2.3.0-py3-none-any.whl (193kB)\n",
            "\u001b[K     |████████████████████████████████| 194kB 18.0MB/s \n",
            "\u001b[?25hCollecting torchvision<0.9,>=0.8\n",
            "\u001b[?25l  Downloading https://files.pythonhosted.org/packages/94/df/969e69a94cff1c8911acb0688117f95e1915becc1e01c73e7960a2c76ec8/torchvision-0.8.2-cp37-cp37m-manylinux1_x86_64.whl (12.8MB)\n",
            "\u001b[K     |████████████████████████████████| 12.8MB 237kB/s \n",
            "\u001b[?25hRequirement already satisfied, skipping upgrade: requests in /usr/local/lib/python3.7/dist-packages (from fastai) (2.23.0)\n",
            "Requirement already satisfied, skipping upgrade: fastprogress>=0.2.4 in /usr/local/lib/python3.7/dist-packages (from fastai) (1.0.0)\n",
            "Requirement already satisfied, skipping upgrade: scipy in /usr/local/lib/python3.7/dist-packages (from fastai) (1.4.1)\n",
            "Requirement already satisfied, skipping upgrade: pip in /usr/local/lib/python3.7/dist-packages (from fastai) (19.3.1)\n",
            "Requirement already satisfied, skipping upgrade: spacy<3 in /usr/local/lib/python3.7/dist-packages (from fastai) (2.2.4)\n",
            "Requirement already satisfied, skipping upgrade: pillow>6.0.0 in /usr/local/lib/python3.7/dist-packages (from fastai) (7.1.2)\n",
            "Collecting torch<1.8,>=1.7.0\n",
            "\u001b[?25l  Downloading https://files.pythonhosted.org/packages/90/5d/095ddddc91c8a769a68c791c019c5793f9c4456a688ddd235d6670924ecb/torch-1.7.1-cp37-cp37m-manylinux1_x86_64.whl (776.8MB)\n",
            "\u001b[K     |████████████████████████████████| 776.8MB 24kB/s \n",
            "\u001b[?25hRequirement already satisfied, skipping upgrade: packaging in /usr/local/lib/python3.7/dist-packages (from fastai) (20.9)\n",
            "Requirement already satisfied, skipping upgrade: pyyaml in /usr/local/lib/python3.7/dist-packages (from fastai) (3.13)\n",
            "Collecting fastcore<1.4,>=1.3.8\n",
            "\u001b[?25l  Downloading https://files.pythonhosted.org/packages/0c/98/60404e2817cff113a6ae4023bc1772e23179408fdf7857fa410551758dfe/fastcore-1.3.19-py3-none-any.whl (53kB)\n",
            "\u001b[K     |████████████████████████████████| 61kB 8.5MB/s \n",
            "\u001b[?25hRequirement already satisfied, skipping upgrade: pandas in /usr/local/lib/python3.7/dist-packages (from fastai) (1.1.5)\n",
            "Requirement already satisfied, skipping upgrade: matplotlib in /usr/local/lib/python3.7/dist-packages (from fastai) (3.2.2)\n",
            "Requirement already satisfied, skipping upgrade: scikit-learn in /usr/local/lib/python3.7/dist-packages (from fastai) (0.22.2.post1)\n",
            "Requirement already satisfied, skipping upgrade: numpy in /usr/local/lib/python3.7/dist-packages (from torchvision<0.9,>=0.8->fastai) (1.19.5)\n",
            "Requirement already satisfied, skipping upgrade: idna<3,>=2.5 in /usr/local/lib/python3.7/dist-packages (from requests->fastai) (2.10)\n",
            "Requirement already satisfied, skipping upgrade: certifi>=2017.4.17 in /usr/local/lib/python3.7/dist-packages (from requests->fastai) (2020.12.5)\n",
            "Requirement already satisfied, skipping upgrade: chardet<4,>=3.0.2 in /usr/local/lib/python3.7/dist-packages (from requests->fastai) (3.0.4)\n",
            "Requirement already satisfied, skipping upgrade: urllib3!=1.25.0,!=1.25.1,<1.26,>=1.21.1 in /usr/local/lib/python3.7/dist-packages (from requests->fastai) (1.24.3)\n",
            "Requirement already satisfied, skipping upgrade: cymem<2.1.0,>=2.0.2 in /usr/local/lib/python3.7/dist-packages (from spacy<3->fastai) (2.0.5)\n",
            "Requirement already satisfied, skipping upgrade: srsly<1.1.0,>=1.0.2 in /usr/local/lib/python3.7/dist-packages (from spacy<3->fastai) (1.0.5)\n",
            "Requirement already satisfied, skipping upgrade: catalogue<1.1.0,>=0.0.7 in /usr/local/lib/python3.7/dist-packages (from spacy<3->fastai) (1.0.0)\n",
            "Requirement already satisfied, skipping upgrade: preshed<3.1.0,>=3.0.2 in /usr/local/lib/python3.7/dist-packages (from spacy<3->fastai) (3.0.5)\n",
            "Requirement already satisfied, skipping upgrade: wasabi<1.1.0,>=0.4.0 in /usr/local/lib/python3.7/dist-packages (from spacy<3->fastai) (0.8.2)\n",
            "Requirement already satisfied, skipping upgrade: murmurhash<1.1.0,>=0.28.0 in /usr/local/lib/python3.7/dist-packages (from spacy<3->fastai) (1.0.5)\n",
            "Requirement already satisfied, skipping upgrade: thinc==7.4.0 in /usr/local/lib/python3.7/dist-packages (from spacy<3->fastai) (7.4.0)\n",
            "Requirement already satisfied, skipping upgrade: tqdm<5.0.0,>=4.38.0 in /usr/local/lib/python3.7/dist-packages (from spacy<3->fastai) (4.41.1)\n",
            "Requirement already satisfied, skipping upgrade: setuptools in /usr/local/lib/python3.7/dist-packages (from spacy<3->fastai) (54.2.0)\n",
            "Requirement already satisfied, skipping upgrade: plac<1.2.0,>=0.9.6 in /usr/local/lib/python3.7/dist-packages (from spacy<3->fastai) (1.1.3)\n",
            "Requirement already satisfied, skipping upgrade: blis<0.5.0,>=0.4.0 in /usr/local/lib/python3.7/dist-packages (from spacy<3->fastai) (0.4.1)\n",
            "Requirement already satisfied, skipping upgrade: typing-extensions in /usr/local/lib/python3.7/dist-packages (from torch<1.8,>=1.7.0->fastai) (3.7.4.3)\n",
            "Requirement already satisfied, skipping upgrade: pyparsing>=2.0.2 in /usr/local/lib/python3.7/dist-packages (from packaging->fastai) (2.4.7)\n",
            "Requirement already satisfied, skipping upgrade: pytz>=2017.2 in /usr/local/lib/python3.7/dist-packages (from pandas->fastai) (2018.9)\n",
            "Requirement already satisfied, skipping upgrade: python-dateutil>=2.7.3 in /usr/local/lib/python3.7/dist-packages (from pandas->fastai) (2.8.1)\n",
            "Requirement already satisfied, skipping upgrade: cycler>=0.10 in /usr/local/lib/python3.7/dist-packages (from matplotlib->fastai) (0.10.0)\n",
            "Requirement already satisfied, skipping upgrade: kiwisolver>=1.0.1 in /usr/local/lib/python3.7/dist-packages (from matplotlib->fastai) (1.3.1)\n",
            "Requirement already satisfied, skipping upgrade: joblib>=0.11 in /usr/local/lib/python3.7/dist-packages (from scikit-learn->fastai) (1.0.1)\n",
            "Requirement already satisfied, skipping upgrade: importlib-metadata>=0.20; python_version < \"3.8\" in /usr/local/lib/python3.7/dist-packages (from catalogue<1.1.0,>=0.0.7->spacy<3->fastai) (3.8.1)\n",
            "Requirement already satisfied, skipping upgrade: six>=1.5 in /usr/local/lib/python3.7/dist-packages (from python-dateutil>=2.7.3->pandas->fastai) (1.15.0)\n",
            "Requirement already satisfied, skipping upgrade: zipp>=0.5 in /usr/local/lib/python3.7/dist-packages (from importlib-metadata>=0.20; python_version < \"3.8\"->catalogue<1.1.0,>=0.0.7->spacy<3->fastai) (3.4.1)\n",
            "\u001b[31mERROR: torchtext 0.9.1 has requirement torch==1.8.1, but you'll have torch 1.7.1 which is incompatible.\u001b[0m\n",
            "Installing collected packages: torch, torchvision, fastcore, fastai\n",
            "  Found existing installation: torch 1.8.1+cu101\n",
            "    Uninstalling torch-1.8.1+cu101:\n",
            "      Successfully uninstalled torch-1.8.1+cu101\n",
            "  Found existing installation: torchvision 0.9.1+cu101\n",
            "    Uninstalling torchvision-0.9.1+cu101:\n",
            "      Successfully uninstalled torchvision-0.9.1+cu101\n",
            "  Found existing installation: fastai 1.0.61\n",
            "    Uninstalling fastai-1.0.61:\n",
            "      Successfully uninstalled fastai-1.0.61\n",
            "Successfully installed fastai-2.3.0 fastcore-1.3.19 torch-1.7.1 torchvision-0.8.2\n"
          ],
          "name": "stdout"
        }
      ]
    },
    {
      "cell_type": "markdown",
      "metadata": {
        "id": "Oe3LYSZsLecU"
      },
      "source": [
        "Bear Classifier!\n"
      ]
    },
    {
      "cell_type": "code",
      "metadata": {
        "id": "fZ9NmwcFLdvT"
      },
      "source": [
        "path = Path()\n",
        "learn_inf = load_learner(path/'export.pkl')\n",
        "btn_upload = widgets.FileUpload()\n",
        "out_pl = widgets.Output()\n",
        "lbl_pred = widgets.Label()"
      ],
      "execution_count": 4,
      "outputs": []
    },
    {
      "cell_type": "code",
      "metadata": {
        "id": "uNJg3VDic0dY"
      },
      "source": [
        "def on_click(change):\n",
        "    img = PILImage.create(btn_upload.data[-1])\n",
        "    out_pl.clear_output()\n",
        "    with out_pl: display(img.to_thumb(128,128))\n",
        "    pred,pred_idx,probs = learn_inf.predict(img)\n",
        "    lbl_pred.value = f'Prediction: {pred}; Probability: {probs[pred_idx]:.04f}'"
      ],
      "execution_count": 5,
      "outputs": []
    },
    {
      "cell_type": "code",
      "metadata": {
        "id": "vIv29UhDdBAK"
      },
      "source": [
        "btn_upload.observe(on_click, names=['data'])"
      ],
      "execution_count": 6,
      "outputs": []
    },
    {
      "cell_type": "code",
      "metadata": {
        "colab": {
          "base_uri": "https://localhost:8080/",
          "height": 185,
          "referenced_widgets": [
            "9fd23d92400540f5af26861f39d654dc",
            "6f1495c9ce57407b9e1740b75c8046d3",
            "8d8629635c68418f9e3be77cdea4c3c2",
            "5c43b8f6f37949eeb99b97fd0673858e",
            "9b8c716e5b34415ea5a092c805c8be0a",
            "e6dcfd291f4b48a4a7ffbfb4a5c8b2a0",
            "4b1957c91d3945fa9b30c4888a0c6a4c",
            "20a7d12a56a64593ae9316b95a4960b8",
            "03f697cda29040298715d6330946f33a",
            "9c9035db048a4d6593f75a8820e45fb8",
            "fcf6f1fdb5414367ae28c2733d1122d5",
            "f4be3fa4e3ad45d38e77109af067e43c",
            "97114154ce754b91af55ace83509da15"
          ]
        },
        "id": "_UPmtHDbdPS4",
        "outputId": "165a4b99-3172-497b-ae52-7eb3a8241643"
      },
      "source": [
        "display(VBox([widgets.Label('Select your bear!'), \n",
        "      btn_upload, out_pl, lbl_pred]))"
      ],
      "execution_count": 7,
      "outputs": [
        {
          "output_type": "display_data",
          "data": {
            "application/vnd.jupyter.widget-view+json": {
              "model_id": "9fd23d92400540f5af26861f39d654dc",
              "version_minor": 0,
              "version_major": 2
            },
            "text/plain": [
              "VBox(children=(Label(value='Select your bear!'), FileUpload(value={}, description='Upload'), Output(), Label(v…"
            ]
          },
          "metadata": {
            "tags": []
          }
        },
        {
          "output_type": "display_data",
          "data": {
            "text/html": [
              ""
            ],
            "text/plain": [
              "<IPython.core.display.HTML object>"
            ]
          },
          "metadata": {
            "tags": []
          }
        }
      ]
    }
  ]
}